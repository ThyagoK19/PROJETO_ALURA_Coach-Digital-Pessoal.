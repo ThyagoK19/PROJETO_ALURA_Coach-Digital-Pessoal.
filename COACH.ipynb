{
  "nbformat": 4,
  "nbformat_minor": 0,
  "metadata": {
    "colab": {
      "provenance": [],
      "authorship_tag": "ABX9TyNzm+nMuCQcF2Z6xT3rLxOz",
      "include_colab_link": true
    },
    "kernelspec": {
      "name": "python3",
      "display_name": "Python 3"
    },
    "language_info": {
      "name": "python"
    }
  },
  "cells": [
    {
      "cell_type": "markdown",
      "metadata": {
        "id": "view-in-github",
        "colab_type": "text"
      },
      "source": [
        "<a href=\"https://colab.research.google.com/github/ThyagoK19/PROJETO_ALURA_Coach-Digital-Pessoal./blob/main/COACH.ipynb\" target=\"_parent\"><img src=\"https://colab.research.google.com/assets/colab-badge.svg\" alt=\"Open In Colab\"/></a>"
      ]
    },
    {
      "cell_type": "code",
      "execution_count": 19,
      "metadata": {
        "colab": {
          "base_uri": "https://localhost:8080/",
          "height": 666
        },
        "id": "UgsxIaCLY7eV",
        "outputId": "a0591a2f-696a-41fe-97f0-42fb597d37f6"
      },
      "outputs": [
        {
          "output_type": "stream",
          "name": "stdout",
          "text": [
            "Informe o seu nome para conversar com o Coach e caso queira terminar a conversa é só escrever 'sair'.\n",
            "Você: me chamo thaygo\n",
            "COACH: Legal, Thaygo! 👋 É um prazer te conhecer. 😊\n",
            "\n",
            "O que você gostaria de fazer hoje? 😄 \n",
            "\n",
            "Você: gostaria de aprender a ganhar peso\n",
            "COACH: Entendo, Thaygo! É normal querer ganhar peso, e eu posso te ajudar com algumas dicas. Mas lembre-se que o ideal é sempre procurar acompanhamento profissional de um médico e um nutricionista, ok? 😉 Eles vão te ajudar a encontrar a melhor forma de ganhar peso de maneira saudável e segura para você! 💪\n",
            "\n",
            "Enquanto isso, algumas dicas gerais que podem te ajudar:\n",
            "\n",
            "**Alimentação:**\n",
            "\n",
            "* **Coma com mais frequência:** Tente fazer de 5 a 6 refeições por dia, incluindo café da manhã, almoço, jantar e lanches entre as refeições. 🍎🍌\n",
            "* **Aumente a ingestão calórica:** Inclua alimentos mais calóricos na sua dieta, como azeite de oliva, abacate, oleaginosas (castanhas, nozes, amêndoas), sementes, frutas secas, granola, etc. 🥜🥑\n",
            "* **Priorize proteínas:** Consuma boas fontes de proteína em todas as refeições, como carnes magras, frango, peixe, ovos, leguminosas (feijão, lentilha, grão de bico) e laticínios. 🍗🥩🥚\n",
            "* **Carboidratos complexos:** Opte por carboidratos complexos, como arroz integral, batata doce, mandioca, quinoa, aveia, que fornecem energia gradual e duradoura. 🍠🍚\n",
            "* **Suplementos:** Em alguns casos, o médico ou nutricionista pode recomendar suplementos alimentares para complementar a dieta, como whey protein, creatina, hipercalóricos, etc. \n",
            "* **Hidratação:** Beba bastante água, mas evite líquidos durante as refeições para não ocupar espaço no estômago. 💧\n",
            "\n",
            "**Exercícios físicos:**\n",
            "\n",
            "* **Musculação:** O treino de força ajuda a construir massa muscular, o que contribui para o ganho de peso. 💪\n",
            "* **Descanso:** Durma pelo menos 8 horas por noite para que o corpo se recupere do treino e construa músculos. 😴\n",
            "\n",
            "**Outras dicas:**\n",
            "\n",
            "* **Cozinhe mais em casa:** Assim você controla melhor os ingredientes e a quantidade de comida que consome. 👨‍🍳\n",
            "* **Evite alimentos processados e industrializados:** Eles são ricos em calorias vazias, açúcar, gordura trans e sódio, que não contribuem para um ganho de peso saudável. 🍟🍕\n",
            "* **Tenha paciência e persistência:** Ganhar peso de forma saudável leva tempo e dedicação. ⏳\n",
            "\n",
            "**Lembre-se:** O acompanhamento profissional é fundamental para um plano individualizado e seguro para você! 😊 \n",
            "\n",
            "Espero que essas dicas te ajudem, Thaygo! 😊 Se tiver mais alguma dúvida, é só perguntar! 😉\n",
            "\n",
            "Você: sair\n",
            "Sessão encerrada.\n"
          ]
        }
      ],
      "source": [
        "import google.generativeai as genai\n",
        "from google.colab import userdata\n",
        "api_key = userdata.get('SECRET_KEY')\n",
        "genai.configure(api_key=api_key)\n",
        "\n",
        "# Set up the model\n",
        "generation_config = {\n",
        "  \"temperature\": 0.5,\n",
        "  \"top_p\": 0.95,\n",
        "  \"top_k\": 0,\n",
        "  \"max_output_tokens\": 8192,\n",
        "}\n",
        "\n",
        "safety_settings = [\n",
        "  {\n",
        "    \"category\": \"HARM_CATEGORY_HARASSMENT\",\n",
        "    \"threshold\": \"BLOCK_MEDIUM_AND_ABOVE\"\n",
        "  },\n",
        "  {\n",
        "    \"category\": \"HARM_CATEGORY_HATE_SPEECH\",\n",
        "    \"threshold\": \"BLOCK_MEDIUM_AND_ABOVE\"\n",
        "  },\n",
        "  {\n",
        "    \"category\": \"HARM_CATEGORY_SEXUALLY_EXPLICIT\",\n",
        "    \"threshold\": \"BLOCK_MEDIUM_AND_ABOVE\"\n",
        "  },\n",
        "  {\n",
        "    \"category\": \"HARM_CATEGORY_DANGEROUS_CONTENT\",\n",
        "    \"threshold\": \"BLOCK_MEDIUM_AND_ABOVE\"\n",
        "  },\n",
        "]\n",
        "\n",
        "model = genai.GenerativeModel(model_name=\"gemini-1.5-pro-latest\",\n",
        "                              generation_config=generation_config,\n",
        "                              safety_settings=safety_settings)\n",
        "\n",
        "convo = model.start_chat(history=[])\n",
        "\n",
        "print(\"Informe o seu nome para conversar com o Coach e caso queira terminar a conversa é só escrever 'sair'.\")\n",
        "\n",
        "while True:\n",
        "    user_input = input(\"Você: \")  # Captura a entrada do usuário\n",
        "    if user_input.lower() == \"sair\":\n",
        "        print(\"Sessão encerrada.\")\n",
        "        break\n",
        "    else:\n",
        "        convo.send_message(user_input)  # Envia a mensagem do usuário para o modelo\n",
        "        print(\"COACH:\", convo.last.text)  # Imprime a resposta do modelo"
      ]
    }
  ]
}